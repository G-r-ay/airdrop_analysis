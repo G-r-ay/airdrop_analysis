{
 "cells": [
  {
   "cell_type": "code",
   "execution_count": null,
   "metadata": {},
   "outputs": [],
   "source": [
    "import pandas as pd\n",
    "import numpy as np\n",
    "import seaborn as sns\n",
    "from sklearn.ensemble import RandomForestClassifier\n",
    "from sklearn.metrics import accuracy_score\n",
    "import matplotlib.pyplot as plt\n",
    "from sklearn.preprocessing import LabelEncoder,StandardScaler\n",
    "\n",
    "scaler = StandardScaler()\n",
    "sns.set_theme(style=\"darkgrid\")\n",
    "\n",
    "le = LabelEncoder()"
   ]
  },
  {
   "cell_type": "code",
   "execution_count": null,
   "metadata": {},
   "outputs": [],
   "source": [
    "train = pd.read_csv('queried_data/optrain.csv')\n",
    "test = pd.read_csv('queried_data/optest.csv')\n",
    "\n",
    "list1 = pd.read_csv('queried_data/list1_query.csv')\n",
    "list2 = pd.read_csv('queried_data/list2_query.csv')"
   ]
  },
  {
   "cell_type": "code",
   "execution_count": null,
   "metadata": {},
   "outputs": [],
   "source": [
    "train.drop_duplicates(subset=['address'],inplace=True)\n",
    "test.drop_duplicates(subset=['address'],inplace=True)\n",
    "list1.drop_duplicates(subset=['address'],inplace=True)\n",
    "list2.drop_duplicates(subset=['address'],inplace=True)"
   ]
  },
  {
   "cell_type": "code",
   "execution_count": null,
   "metadata": {},
   "outputs": [],
   "source": [
    "bins = [-1, 7, 14, 21, 30, 69]\n",
    "labels = ['Less than a week', '1-2 weeks', '2-3 weeks', '3-4 weeks', 'Over 4 weeks']\n",
    "\n",
    "# create new column with duration labels\n",
    "train['duration'] = pd.cut(train['Days_held'], bins=bins, labels=labels)\n",
    "test['duration'] = pd.cut(test['Days_held'], bins=bins, labels=labels)\n"
   ]
  },
  {
   "cell_type": "code",
   "execution_count": null,
   "metadata": {},
   "outputs": [],
   "source": [
    "X = train.drop(['Days_held','address','duration','Amount_Sold(OP)','percentage_spent','Amount_Received(OP)','Past_participant'],axis=1)\n",
    "\n",
    "le.fit(train['duration'])\n",
    "y = le.transform(train['duration'])"
   ]
  },
  {
   "cell_type": "code",
   "execution_count": null,
   "metadata": {},
   "outputs": [],
   "source": [
    "pivot_table = pd.pivot_table(train, values='Days_held', index='duration', aggfunc='count', margins=True)\n",
    "pivot_table.columns = ['count']\n",
    "pivot_table['percentage'] = pivot_table['count'] / pivot_table.loc['All', 'count'] * 100\n",
    "print(pivot_table)"
   ]
  },
  {
   "cell_type": "code",
   "execution_count": null,
   "metadata": {},
   "outputs": [],
   "source": [
    "X_test = test.drop(['Days_held','address','duration','Amount_Sold(OP)','percentage_spent','Amount_Received(OP)','Past_participant'],axis=1)\n",
    "y_test = le.transform(test['duration'])"
   ]
  },
  {
   "cell_type": "code",
   "execution_count": null,
   "metadata": {},
   "outputs": [],
   "source": [
    "rfc = RandomForestClassifier(n_estimators=200, random_state=42)\n",
    "rfc.fit(X, y)\n",
    "\n",
    "rfc_pred = rfc.predict(X_test)\n",
    "\n",
    "rfc_acc = accuracy_score(y_test, rfc_pred)\n",
    "\n",
    "\n",
    "print(f\"Random Forest Accuracy: {rfc_acc}\")\n"
   ]
  },
  {
   "cell_type": "code",
   "execution_count": null,
   "metadata": {},
   "outputs": [],
   "source": [
    "importances = rfc.feature_importances_\n",
    "feature_names = X.columns\n",
    "df_importances = pd.DataFrame({'feature': feature_names, 'importance': importances})\n",
    "\n",
    "plt.figure(figsize=(10, 5))\n",
    "sns.barplot(x='importance', y='feature', data=df_importances, orient='h')\n",
    "plt.title('Feature importances')\n",
    "plt.show()"
   ]
  },
  {
   "cell_type": "code",
   "execution_count": null,
   "metadata": {},
   "outputs": [],
   "source": [
    "rfc_pred[:10],y_test[:10]"
   ]
  },
  {
   "cell_type": "code",
   "execution_count": null,
   "metadata": {},
   "outputs": [],
   "source": [
    "lis11_prediction = le.inverse_transform(rfc.predict(list1.drop('address', axis=1)))\n",
    "list2_prediction = le.inverse_transform(rfc.predict(list2.drop('address',axis=1)))\n",
    "\n",
    "list1['Predicted_Holding_days'] = lis11_prediction\n",
    "list2['Predicted_Holding_days'] = list2_prediction"
   ]
  },
  {
   "cell_type": "code",
   "execution_count": null,
   "metadata": {},
   "outputs": [],
   "source": [
    "list1['Predicted_Holding_days'].value_counts()"
   ]
  },
  {
   "cell_type": "code",
   "execution_count": null,
   "metadata": {},
   "outputs": [],
   "source": [
    "list2['Predicted_Holding_days'].value_counts()"
   ]
  },
  {
   "cell_type": "code",
   "execution_count": null,
   "metadata": {},
   "outputs": [],
   "source": [
    "best_choice1 = list1.loc[(list1['Predicted_Holding_days']=='Over 4 weeks')|(list1['Predicted_Holding_days']=='3-4 weeks')]\n",
    "best_choice2 = list2.loc[(list2['Predicted_Holding_days']=='Over 4 weeks') | (list2['Predicted_Holding_days']=='3-4 Weeks')]"
   ]
  },
  {
   "cell_type": "code",
   "execution_count": null,
   "metadata": {},
   "outputs": [],
   "source": [
    "best_list = pd.concat([best_choice1,best_choice2])\n",
    "best_list.to_csv('data/best_list.csv',index=False)"
   ]
  },
  {
   "cell_type": "code",
   "execution_count": null,
   "metadata": {},
   "outputs": [],
   "source": [
    "list1.to_csv('classified_data/list1_query_classified.csv',index=False)\n",
    "list2.to_csv('classified_data/list2_query_classified.csv',index=False)"
   ]
  },
  {
   "cell_type": "code",
   "execution_count": null,
   "metadata": {},
   "outputs": [],
   "source": [
    "value_counts = train['duration'].value_counts()\n",
    "percentage = value_counts.div(len(train)).mul(100)\n",
    "percentage"
   ]
  },
  {
   "cell_type": "code",
   "execution_count": null,
   "metadata": {},
   "outputs": [],
   "source": [
    "import pickle\n",
    "\n",
    "with open('model_weights/rfc.pkl', 'wb') as f:\n",
    "    pickle.dump(rfc, f)\n",
    "\n",
    "with open('model_weights/rfc.pkl', 'rb') as f:\n",
    "    rfc = pickle.load(f)\n",
    "\n",
    "# Use the loaded classifier to make predictions\n",
    "y_pred = rfc.predict(X)\n",
    "\n",
    "rfc_acc = accuracy_score(y_test, rfc_pred)\n",
    "\n",
    "\n",
    "print(f\"Random Forest Accuracy: {rfc_acc}\")"
   ]
  }
 ],
 "metadata": {
  "kernelspec": {
   "display_name": "AI_ML",
   "language": "python",
   "name": "python3"
  },
  "language_info": {
   "codemirror_mode": {
    "name": "ipython",
    "version": 3
   },
   "file_extension": ".py",
   "mimetype": "text/x-python",
   "name": "python",
   "nbconvert_exporter": "python",
   "pygments_lexer": "ipython3",
   "version": "3.9.16"
  },
  "orig_nbformat": 4
 },
 "nbformat": 4,
 "nbformat_minor": 2
}
