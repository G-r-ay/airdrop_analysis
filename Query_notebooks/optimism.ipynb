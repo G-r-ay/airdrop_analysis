{
 "cells": [
  {
   "cell_type": "code",
   "execution_count": null,
   "metadata": {},
   "outputs": [],
   "source": [
    "import pandas as pd\n",
    "import datetime\n",
    "import requests\n",
    "import sys\n",
    "\n",
    "\n",
    "errored = []\n",
    "op_contract_add = '0x4200000000000000000000000000000000000042'\n",
    "api_key = \"optimistic.etherscan-api\"\n",
    "url = \"https://api-optimistic.etherscan.io/api\"\n",
    "random_state = 27"
   ]
  },
  {
   "cell_type": "code",
   "execution_count": null,
   "metadata": {},
   "outputs": [],
   "source": [
    "data = pd.read_csv('data/optimism_airdrop.csv')\n",
    "\n",
    "sample = data.sample(n=7729, random_state=random_state)\n",
    "#sample.reset_index(drop=True,inplace=True)\n",
    "\n",
    "not_in_sample = ~data.isin(sample).all(1)\n",
    "new_data = data[not_in_sample]\n",
    "more_data = new_data[:13000]"
   ]
  },
  {
   "cell_type": "code",
   "execution_count": null,
   "metadata": {},
   "outputs": [],
   "source": [
    "def wei_to_op(wei):\n",
    "    return int(wei) / 10**18"
   ]
  },
  {
   "cell_type": "code",
   "execution_count": null,
   "metadata": {},
   "outputs": [],
   "source": [
    "def get_balance(address):\n",
    "    \"\"\"\n",
    "    Funtion return the Eth balance of an a given address\n",
    "\n",
    "    >>> get_balance('0x0000000000000000000000000000000000000000')\n",
    "    0.00897765567\n",
    "\n",
    "    \"\"\"\n",
    "    params = {\n",
    "        \"module\": \"account\",\n",
    "        \"action\": \"balance\",\n",
    "        \"address\": address,\n",
    "        \"tag\": \"latest\",\n",
    "        \"apikey\": api_key\n",
    "    }\n",
    "\n",
    "    # Make a GET request with the URL and query parameters\n",
    "    response = requests.get(url, params=params)\n",
    "\n",
    "    # Print the response content\n",
    "    return round(wei_to_op(response.json()['result']),5)"
   ]
  },
  {
   "cell_type": "code",
   "execution_count": null,
   "metadata": {},
   "outputs": [],
   "source": [
    "def get_Erc20_transaction_history(address,opt=True):\n",
    "    if opt == True:\n",
    "        params = {\n",
    "            \"module\": \"account\",\n",
    "            \"action\": \"tokentx\",\n",
    "            \"contractaddress\" : op_contract_add,\n",
    "            \"address\": address,\n",
    "            \"offset\": 100,\n",
    "            \"startblock\": 0,\n",
    "            \"endblock\": 99999999,\n",
    "            \"sort\": \"asc\",\n",
    "            \"apikey\": api_key\n",
    "        }\n",
    "\n",
    "    else:\n",
    "        params = {\n",
    "            \"module\": \"account\",\n",
    "            \"action\": \"tokentx\",\n",
    "            \"address\": address,\n",
    "            \"page\": 1,\n",
    "            \"offset\": 100,\n",
    "            \"startblock\": 0,\n",
    "            \"endblock\": 99999999,\n",
    "            \"sort\": \"asc\",\n",
    "            \"apikey\": api_key\n",
    "        }\n",
    "\n",
    "    \n",
    "    response = requests.get(url, params=params).json()\n",
    "    return response['result']\n"
   ]
  },
  {
   "cell_type": "code",
   "execution_count": null,
   "metadata": {},
   "outputs": [],
   "source": [
    "def locate_airdrop_amount(data,address):\n",
    "    amount = data['total_op'].loc[data['address']==address].item()\n",
    "    return amount"
   ]
  },
  {
   "cell_type": "code",
   "execution_count": null,
   "metadata": {},
   "outputs": [],
   "source": [
    "def get_sell_off_date(history:list[dict], op_amount:int, address:str):\n",
    "    today = datetime.date.today()\n",
    "    for transaction in history:\n",
    "        value = wei_to_op(transaction['value'])\n",
    "        if round(value ,8) == round(op_amount,8):\n",
    "            time = int(transaction['timeStamp'])\n",
    "            initial_date = datetime.datetime.fromtimestamp(time).strftime(\"%Y-%m-%d %H:%M:%S\")\n",
    "            break\n",
    "    else:\n",
    "        print(f\"No transaction found with value {op_amount} OP for address {address}\")\n",
    "        errored.append(address)\n",
    "        return [address,'error','error','error']\n",
    "    \n",
    "    expended_op = 0\n",
    "    for transaction in history:\n",
    "        timestamp = int(transaction['timeStamp'])\n",
    "        token_symbol = transaction['tokenSymbol']\n",
    "        value = int(transaction['value'])\n",
    "        \n",
    "        if timestamp >= time and token_symbol == \"OP\" and transaction['from'] == address:\n",
    "            expended_op += value\n",
    "            percentage_spent = round(wei_to_op(expended_op) / op_amount * 100, 2)\n",
    "            \n",
    "            if percentage_spent >= 100:\n",
    "                percentage_spent = 100\n",
    "                \n",
    "                out_date = datetime.datetime.fromtimestamp(timestamp).strftime('%Y-%m-%d %H:%M:%S')\n",
    "                delta = datetime.datetime.strptime(out_date, '%Y-%m-%d %H:%M:%S') - datetime.datetime.strptime(initial_date, '%Y-%m-%d %H:%M:%S')\n",
    "                days = delta.days\n",
    "                row = [address, days, wei_to_op(expended_op), percentage_spent]\n",
    "                return row\n",
    "            \n",
    "    percentage_spent = round(wei_to_op(expended_op) / op_amount * 100, 2)\n",
    "    \n",
    "    if percentage_spent >= 100:\n",
    "        percentage_spent = 100\n",
    "    \n",
    "    initial_date = datetime.datetime.fromtimestamp(time)\n",
    "    u = datetime.date(2023, 4, 18)\n",
    "    delta = u - initial_date.date()\n",
    "    days = delta.days\n",
    "\n",
    "    row = [address, days, wei_to_op(expended_op), percentage_spent]\n",
    "    \n",
    "    return row\n"
   ]
  },
  {
   "cell_type": "code",
   "execution_count": null,
   "metadata": {},
   "outputs": [],
   "source": [
    "def calculate_txn_day_ratio(txn_history):\n",
    "    # Convert timestamps to datetime objects and sort transactions by timestamp\n",
    "    transactions = sorted(\n",
    "        [datetime.datetime.fromtimestamp(int(txn['timeStamp'])) for txn in txn_history]\n",
    "    )\n",
    "    \n",
    "    # Calculate the number of days between the earliest and latest transactions\n",
    "    delta_days = (transactions[-1] - transactions[0]).days\n",
    "    \n",
    "    # Calculate the transaction-day ratio\n",
    "    if delta_days == 0:\n",
    "        txn_day_ratio = len(transactions)\n",
    "    else:\n",
    "        txn_day_ratio = len(transactions) / delta_days\n",
    "        \n",
    "    return round(txn_day_ratio,3)"
   ]
  },
  {
   "cell_type": "code",
   "execution_count": null,
   "metadata": {},
   "outputs": [],
   "source": [
    "def get_wallet_age(history: list[dict]):\n",
    "    creation_time = int(history[0]['timeStamp'])\n",
    "    creation_date = datetime.datetime.fromtimestamp(creation_time).date()\n",
    "    current_date = datetime.date(2023, 4, 18)  # Set current date to 18th of April 2023\n",
    "    wallet_age = (current_date - creation_date).days\n",
    "    return wallet_age"
   ]
  },
  {
   "cell_type": "code",
   "execution_count": null,
   "metadata": {},
   "outputs": [],
   "source": [
    "def to_and_from(history:list[dict],address):\n",
    "    from_count = 0\n",
    "    to_count = 0\n",
    "    for transactions in history:\n",
    "        if transactions['from'] == address:\n",
    "            from_count +=1\n",
    "        else:\n",
    "            to_count += 1\n",
    "    return from_count, to_count"
   ]
  },
  {
   "cell_type": "code",
   "execution_count": null,
   "metadata": {},
   "outputs": [],
   "source": [
    "def Previous_drop_participant(history:list[dict]):\n",
    "    Participant = False\n",
    "    for transaction in history:\n",
    "        if transaction['from'] == '0xfedfaf1a10335448b7fa0268f56d2b44dbd357de':\n",
    "            Participant = True\n",
    "\n",
    "    return Participant"
   ]
  },
  {
   "cell_type": "code",
   "execution_count": null,
   "metadata": {},
   "outputs": [],
   "source": [
    "info = []\n",
    "import time\n",
    "def main(data):\n",
    "    for i, address in enumerate(data['address']):\n",
    "        Optimism_transaction_dict = get_Erc20_transaction_history(address)\n",
    "\n",
    "        Erc_20_history = get_Erc20_transaction_history(address,False)\n",
    "        \n",
    "        op = locate_airdrop_amount(data,address)\n",
    "        \n",
    "        column = get_sell_off_date(Optimism_transaction_dict,op,address)\n",
    "        \n",
    "        tdr  = calculate_txn_day_ratio(Erc_20_history)\n",
    "        \n",
    "        eth_balance = get_balance(address)\n",
    "\n",
    "        wallet_age = get_wallet_age(Erc_20_history)\n",
    "\n",
    "        from_count, to_count = to_and_from(Erc_20_history,address)\n",
    "\n",
    "        Past_participant = Previous_drop_participant(Optimism_transaction_dict)\n",
    "        \n",
    "        column.insert(1,eth_balance)\n",
    "        \n",
    "        column.insert(-2,op)\n",
    "        \n",
    "        column.append(tdr)\n",
    "\n",
    "        column.append(wallet_age)\n",
    "\n",
    "        column.append(from_count)\n",
    "\n",
    "        column.append(to_count)\n",
    "\n",
    "        column.append(Past_participant)\n",
    "        \n",
    "        info.append(column)\n",
    "        \n",
    "        # Print iteration count every 100 iterations\n",
    "        if i % 5 == 0:\n",
    "            print(f\"Iteration: {i}\")\n",
    "            time.sleep(1)\n"
   ]
  },
  {
   "cell_type": "code",
   "execution_count": null,
   "metadata": {},
   "outputs": [],
   "source": [
    "main(new_data[6817:])"
   ]
  },
  {
   "cell_type": "code",
   "execution_count": null,
   "metadata": {},
   "outputs": [],
   "source": [
    "columns = ['address','balance','Days_held','Amount_Received(OP)','Amount_Sold(OP)','percentage_spent','TDR','Wallet_Age(Days)','From_Count','To_Count','Past_participant']\n",
    "query = pd.DataFrame(info,columns=columns)\n",
    "\n",
    "query.to_csv('queried_data/more_data1.csv',index=False)"
   ]
  }
 ],
 "metadata": {
  "kernelspec": {
   "display_name": "Data_Science",
   "language": "python",
   "name": "python3"
  },
  "language_info": {
   "codemirror_mode": {
    "name": "ipython",
    "version": 3
   },
   "file_extension": ".py",
   "mimetype": "text/x-python",
   "name": "python",
   "nbconvert_exporter": "python",
   "pygments_lexer": "ipython3",
   "version": "3.10.8"
  },
  "orig_nbformat": 4
 },
 "nbformat": 4,
 "nbformat_minor": 2
}
