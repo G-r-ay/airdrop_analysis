{
 "cells": [
  {
   "cell_type": "code",
   "execution_count": null,
   "metadata": {},
   "outputs": [],
   "source": [
    "import pandas as pd\n",
    "import datetime\n",
    "import requests\n",
    "import sys\n",
    "\n",
    "\n",
    "errored = []\n",
    "api_key = \"etherscan-api-key\"\n",
    "url = \"https://api.etherscan.io/api\"\n",
    "random_state = 27"
   ]
  },
  {
   "cell_type": "code",
   "execution_count": null,
   "metadata": {},
   "outputs": [],
   "source": [
    "list1 = pd.read_excel('data/List 1.xlsx')\n",
    "list2 = pd.read_excel('data/List 2.xlsx')"
   ]
  },
  {
   "cell_type": "code",
   "execution_count": null,
   "metadata": {},
   "outputs": [],
   "source": [
    "def wei_to_eth(wei):\n",
    "    return int(wei) / 10**18"
   ]
  },
  {
   "cell_type": "code",
   "execution_count": null,
   "metadata": {},
   "outputs": [],
   "source": [
    "def get_balance(address):\n",
    "    \"\"\"\n",
    "    Funtion return the Eth balance of an a given address\n",
    "\n",
    "    >>> get_balance('0x0000000000000000000000000000000000000000')\n",
    "    0.00897765567\n",
    "\n",
    "    \"\"\"\n",
    "    params = {\n",
    "        \"module\": \"account\",\n",
    "        \"action\": \"balance\",\n",
    "        \"address\": address,\n",
    "        \"tag\": \"latest\",\n",
    "        \"apikey\": api_key\n",
    "    }\n",
    "\n",
    "    # Make a GET request with the URL and query parameters\n",
    "    response = requests.get(url, params=params)\n",
    "\n",
    "    # Print the response content\n",
    "    return round(wei_to_eth(response.json()['result']),5)"
   ]
  },
  {
   "cell_type": "code",
   "execution_count": null,
   "metadata": {},
   "outputs": [],
   "source": [
    "def get_Erc20_transaction_history(address):\n",
    "\n",
    "    params = {\n",
    "        \"module\": \"account\",\n",
    "        \"action\": \"tokentx\",\n",
    "        \"address\": address,\n",
    "        \"page\": 1,\n",
    "        \"offset\": 100,\n",
    "        \"startblock\": 0,\n",
    "        \"endblock\": 99999999,\n",
    "        \"sort\": \"asc\",\n",
    "        \"apikey\": api_key\n",
    "    }\n",
    "\n",
    "    \n",
    "    response = requests.get(url, params=params).json()\n",
    "    return response['result']\n"
   ]
  },
  {
   "cell_type": "code",
   "execution_count": null,
   "metadata": {},
   "outputs": [],
   "source": [
    "def calculate_txn_day_ratio(txn_history):\n",
    "    # Convert timestamps to datetime objects and sort transactions by timestamp\n",
    "    transactions = sorted(\n",
    "        [datetime.datetime.fromtimestamp(int(txn['timeStamp'])) for txn in txn_history]\n",
    "    )\n",
    "    \n",
    "    # Calculate the number of days between the earliest and latest transactions\n",
    "    if len(txn_history) > 0:\n",
    "        delta_days = (transactions[-1] - transactions[0]).days\n",
    "    else:\n",
    "        return 0\n",
    "    \n",
    "    # Calculate the transaction-day ratio\n",
    "    if delta_days == 0:\n",
    "        txn_day_ratio = len(transactions)\n",
    "    else:\n",
    "        txn_day_ratio = len(transactions) / delta_days\n",
    "        \n",
    "    return round(txn_day_ratio,3)"
   ]
  },
  {
   "cell_type": "code",
   "execution_count": null,
   "metadata": {},
   "outputs": [],
   "source": [
    "def get_wallet_age(history: list[dict]):\n",
    "    if len(history) > 0:\n",
    "        creation_time = int(history[0]['timeStamp'])\n",
    "        creation_date = datetime.datetime.fromtimestamp(creation_time).date()\n",
    "        current_date = datetime.date.today()\n",
    "        wallet_age = (current_date - creation_date).days\n",
    "        return wallet_age\n",
    "    else:\n",
    "        return 0\n"
   ]
  },
  {
   "cell_type": "code",
   "execution_count": null,
   "metadata": {},
   "outputs": [],
   "source": [
    "def to_and_from(history:list[dict],address):\n",
    "    from_count = 0\n",
    "    to_count = 0\n",
    "    for transactions in history:\n",
    "        if transactions['from'] == address:\n",
    "            from_count +=1\n",
    "        else:\n",
    "            to_count += 1\n",
    "    return from_count, to_count"
   ]
  },
  {
   "cell_type": "code",
   "execution_count": null,
   "metadata": {},
   "outputs": [],
   "source": [
    "info = []\n",
    "import time\n",
    "def main(data):\n",
    "    for i, address in enumerate(data['Voter']):\n",
    "\n",
    "        if len(address) == 42:\n",
    "\n",
    "            Erc_20_history = get_Erc20_transaction_history(address)\n",
    "            \n",
    "            tdr  = calculate_txn_day_ratio(Erc_20_history)\n",
    "            \n",
    "            eth_balance = get_balance(address)\n",
    "\n",
    "            wallet_age = get_wallet_age(Erc_20_history)\n",
    "\n",
    "            from_count, to_count = to_and_from(Erc_20_history,address)\n",
    "\n",
    "            row = [address,eth_balance,tdr,wallet_age,from_count,to_count]\n",
    "\n",
    "            info.append(row)\n",
    "        \n",
    "        else:\n",
    "            continue\n",
    "            \n",
    "        # Print iteration count every 100 iterations\n",
    "        if i % 5 == 0:\n",
    "            print(f\"Iteration: {i}\")\n",
    "            time.sleep(1)\n"
   ]
  },
  {
   "cell_type": "code",
   "execution_count": null,
   "metadata": {},
   "outputs": [],
   "source": [
    "main(list2)"
   ]
  },
  {
   "cell_type": "code",
   "execution_count": null,
   "metadata": {},
   "outputs": [],
   "source": [
    "columns = ['address','balance','TDR','Wallet_Age(Days)','From_Count','To_Count']\n",
    "query = pd.DataFrame(info,columns=columns)\n",
    "\n",
    "query.drop_duplicates(subset=['address'],inplace=True)\n",
    "query.to_csv('list2_query.csv',index=False)"
   ]
  }
 ],
 "metadata": {
  "kernelspec": {
   "display_name": "AI_ML",
   "language": "python",
   "name": "python3"
  },
  "language_info": {
   "codemirror_mode": {
    "name": "ipython",
    "version": 3
   },
   "file_extension": ".py",
   "mimetype": "text/x-python",
   "name": "python",
   "nbconvert_exporter": "python",
   "pygments_lexer": "ipython3",
   "version": "3.10.8"
  },
  "orig_nbformat": 4
 },
 "nbformat": 4,
 "nbformat_minor": 2
}
